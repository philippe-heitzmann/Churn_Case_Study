{
 "cells": [
  {
   "cell_type": "code",
   "execution_count": 839,
   "id": "convinced-angola",
   "metadata": {},
   "outputs": [],
   "source": [
    "#import libraries\n",
    "\n",
    "import pandas as pd\n",
    "import numpy as np \n",
    "\n",
    "#modeling\n",
    "from sklearn.model_selection import train_test_split,  cross_val_score, GridSearchCV, StratifiedKFold\n",
    "from sklearn.linear_model import LogisticRegression, LogisticRegressionCV, LinearRegression\n",
    "from sklearn.ensemble import RandomForestClassifier\n",
    "import xgboost as xgb\n",
    "\n",
    "#graphing\n",
    "import matplotlib.pyplot as plt \n",
    "import seaborn as sns \n",
    "\n",
    "#querying\n",
    "import sqlite3\n",
    "from sqlite3 import Error\n",
    "from pathlib import Path\n",
    "\n",
    "#stats\n",
    "from sklearn.metrics import confusion_matrix, roc_curve, roc_auc_score, accuracy_score, f1_score\n",
    "from scipy.stats import ttest_ind\n",
    "from statsmodels.stats.proportion import proportions_chisquare\n",
    "from scipy.stats import chi2_contingency\n",
    "\n",
    "#dashboarding\n",
    "import pickle"
   ]
  },
  {
   "cell_type": "code",
   "execution_count": 845,
   "id": "bright-lemon",
   "metadata": {},
   "outputs": [],
   "source": [
    "#reading in our data \n",
    "\n",
    "data = pd.read_csv('Churn Modeling.csv',sep = ',')"
   ]
  },
  {
   "cell_type": "markdown",
   "id": "regulation-finder",
   "metadata": {},
   "source": [
    "### Exploratory Data Analysis & Data Pre-processing\n",
    "#### Step 1: Looking at dropping non-informative data"
   ]
  },
  {
   "cell_type": "code",
   "execution_count": 182,
   "id": "reverse-short",
   "metadata": {
    "scrolled": false
   },
   "outputs": [
    {
     "data": {
      "text/html": [
       "<div>\n",
       "<style scoped>\n",
       "    .dataframe tbody tr th:only-of-type {\n",
       "        vertical-align: middle;\n",
       "    }\n",
       "\n",
       "    .dataframe tbody tr th {\n",
       "        vertical-align: top;\n",
       "    }\n",
       "\n",
       "    .dataframe thead th {\n",
       "        text-align: right;\n",
       "    }\n",
       "</style>\n",
       "<table border=\"1\" class=\"dataframe\">\n",
       "  <thead>\n",
       "    <tr style=\"text-align: right;\">\n",
       "      <th></th>\n",
       "      <th>RowNumber</th>\n",
       "      <th>CustomerId</th>\n",
       "      <th>Surname</th>\n",
       "      <th>CreditScore</th>\n",
       "      <th>Geography</th>\n",
       "      <th>Gender</th>\n",
       "      <th>Age</th>\n",
       "      <th>Tenure</th>\n",
       "      <th>Balance</th>\n",
       "      <th>NumOfProducts</th>\n",
       "      <th>HasChckng</th>\n",
       "      <th>IsActiveMember</th>\n",
       "      <th>EstimatedSalary</th>\n",
       "      <th>Exited</th>\n",
       "    </tr>\n",
       "  </thead>\n",
       "  <tbody>\n",
       "    <tr>\n",
       "      <th>0</th>\n",
       "      <td>1</td>\n",
       "      <td>15634602</td>\n",
       "      <td>Hargrave</td>\n",
       "      <td>619.0</td>\n",
       "      <td>West</td>\n",
       "      <td>Female</td>\n",
       "      <td>42</td>\n",
       "      <td>2</td>\n",
       "      <td>0.00</td>\n",
       "      <td>1</td>\n",
       "      <td>1</td>\n",
       "      <td>1</td>\n",
       "      <td>101348.88</td>\n",
       "      <td>1</td>\n",
       "    </tr>\n",
       "    <tr>\n",
       "      <th>1</th>\n",
       "      <td>2</td>\n",
       "      <td>15647311</td>\n",
       "      <td>Hill</td>\n",
       "      <td>608.0</td>\n",
       "      <td>Central</td>\n",
       "      <td>Female</td>\n",
       "      <td>41</td>\n",
       "      <td>1</td>\n",
       "      <td>83807.86</td>\n",
       "      <td>1</td>\n",
       "      <td>0</td>\n",
       "      <td>1</td>\n",
       "      <td>112542.58</td>\n",
       "      <td>0</td>\n",
       "    </tr>\n",
       "    <tr>\n",
       "      <th>2</th>\n",
       "      <td>3</td>\n",
       "      <td>15619304</td>\n",
       "      <td>Onio</td>\n",
       "      <td>502.0</td>\n",
       "      <td>West</td>\n",
       "      <td>Female</td>\n",
       "      <td>42</td>\n",
       "      <td>8</td>\n",
       "      <td>159660.80</td>\n",
       "      <td>3</td>\n",
       "      <td>1</td>\n",
       "      <td>0</td>\n",
       "      <td>113931.57</td>\n",
       "      <td>1</td>\n",
       "    </tr>\n",
       "    <tr>\n",
       "      <th>3</th>\n",
       "      <td>4</td>\n",
       "      <td>15701354</td>\n",
       "      <td>Boni</td>\n",
       "      <td>699.0</td>\n",
       "      <td>West</td>\n",
       "      <td>Female</td>\n",
       "      <td>39</td>\n",
       "      <td>1</td>\n",
       "      <td>0.00</td>\n",
       "      <td>2</td>\n",
       "      <td>0</td>\n",
       "      <td>0</td>\n",
       "      <td>93826.63</td>\n",
       "      <td>0</td>\n",
       "    </tr>\n",
       "    <tr>\n",
       "      <th>4</th>\n",
       "      <td>5</td>\n",
       "      <td>15737888</td>\n",
       "      <td>Mitchell</td>\n",
       "      <td>850.0</td>\n",
       "      <td>Central</td>\n",
       "      <td>Female</td>\n",
       "      <td>43</td>\n",
       "      <td>2</td>\n",
       "      <td>125510.82</td>\n",
       "      <td>1</td>\n",
       "      <td>1</td>\n",
       "      <td>1</td>\n",
       "      <td>79084.10</td>\n",
       "      <td>0</td>\n",
       "    </tr>\n",
       "  </tbody>\n",
       "</table>\n",
       "</div>"
      ],
      "text/plain": [
       "   RowNumber  CustomerId   Surname  CreditScore Geography  Gender  Age  \\\n",
       "0          1    15634602  Hargrave        619.0      West  Female   42   \n",
       "1          2    15647311      Hill        608.0   Central  Female   41   \n",
       "2          3    15619304      Onio        502.0      West  Female   42   \n",
       "3          4    15701354      Boni        699.0      West  Female   39   \n",
       "4          5    15737888  Mitchell        850.0   Central  Female   43   \n",
       "\n",
       "   Tenure    Balance  NumOfProducts  HasChckng  IsActiveMember  \\\n",
       "0       2       0.00              1          1               1   \n",
       "1       1   83807.86              1          0               1   \n",
       "2       8  159660.80              3          1               0   \n",
       "3       1       0.00              2          0               0   \n",
       "4       2  125510.82              1          1               1   \n",
       "\n",
       "   EstimatedSalary  Exited  \n",
       "0        101348.88       1  \n",
       "1        112542.58       0  \n",
       "2        113931.57       1  \n",
       "3         93826.63       0  \n",
       "4         79084.10       0  "
      ]
     },
     "execution_count": 182,
     "metadata": {},
     "output_type": "execute_result"
    }
   ],
   "source": [
    "#looking at our data\n",
    "data.head()"
   ]
  },
  {
   "cell_type": "markdown",
   "id": "incredible-token",
   "metadata": {},
   "source": [
    "##### Observation - RowNumber, CustomerId & Surname: \n",
    "RowNumber  and CustomerId columns have unique values for each customer, so we can safely drop these as these won't add anything to our models and may actually cause to overfit later on \n",
    "\n",
    "While Surname doesn't immediately appear that useful, given the high number of repeat Surnames in the dataset, one thought would be to see if it would be possible to figure out with some degree of certainty if some people sharing the same surname that are in the same Geography might be married / part of the same family, and may have a higher / lower likelihood of churning as a group\n",
    "\n",
    "**Class Imbalance:** We notice a 4:1 class imbalance in the Exited variable, which will need to be addressed later on \n",
    "during model training "
   ]
  },
  {
   "cell_type": "code",
   "execution_count": 846,
   "id": "nominated-diagnosis",
   "metadata": {
    "scrolled": true
   },
   "outputs": [
    {
     "name": "stdout",
     "output_type": "stream",
     "text": [
      "Number of repeat CustomerId: 0\n",
      "Number of repeat RowNumber: 0\n",
      "Number of repeat Surname: 7068\n"
     ]
    }
   ],
   "source": [
    "#looking at number of unique CustomerId's, RowNumbers and Surnames in the dataset\n",
    "print('Number of repeat CustomerId:', data.shape[0] - data.CustomerId.nunique())\n",
    "print('Number of repeat RowNumber:',data.shape[0] - data.RowNumber.nunique())\n",
    "print('Number of repeat Surname:',data.shape[0] - data.Surname.nunique())\n",
    "#dropping these first two columns as a result\n",
    "data.drop(['CustomerId','RowNumber'], axis = 1, inplace = True)"
   ]
  },
  {
   "cell_type": "code",
   "execution_count": 184,
   "id": "indian-booking",
   "metadata": {},
   "outputs": [
    {
     "data": {
      "text/plain": [
       "0    7963\n",
       "1    2037\n",
       "Name: Exited, dtype: int64"
      ]
     },
     "execution_count": 184,
     "metadata": {},
     "output_type": "execute_result"
    }
   ],
   "source": [
    "#looking at class imbalance in Exited variable - 4:1 class imbalance\n",
    "data.Exited.value_counts()"
   ]
  },
  {
   "cell_type": "code",
   "execution_count": 972,
   "id": "amended-inspection",
   "metadata": {},
   "outputs": [
    {
     "data": {
      "image/png": "[encoded data removed]",
      "text/plain": [
       "<Figure size 504x288 with 1 Axes>"
      ]
     },
     "metadata": {
      "needs_background": "light"
     },
     "output_type": "display_data"
    }
   ],
   "source": [
    "#visualizing Exited class imbalance\n",
    "plt.figure(figsize = (7,4))\n",
    "plt.bar(['No Churn','Churn'], [7963,2037])\n",
    "plt.title('Exited Class Imbalance')\n",
    "plt.ylabel('Counts')\n",
    "for x,y in zip(['No Churn','Churn'], [7963,2037]):\n",
    "\n",
    "    label = \"{:.0f}\".format(y)\n",
    "\n",
    "    plt.annotate(label, # this is the text\n",
    "                 (x,y), # this is the point to label\n",
    "                 textcoords=\"offset points\", # how to position the text\n",
    "                 xytext=(0,10), # distance from text to points (x,y)\n",
    "                 ha='center') # horizontal alignment can be left, right or center\n",
    "plt.ylim(0,9000)\n",
    "plt.show()"
   ]
  },
  {
   "cell_type": "markdown",
   "id": "cellular-chick",
   "metadata": {},
   "source": [
    "Let's create a correlation heatmap to build some high level intuition of some of the linear relationships in our dataset. In order to create heatmap we map qualitative variables to numeric to extract relationships on those mappings\n"
   ]
  },
  {
   "cell_type": "code",
   "execution_count": 847,
   "id": "circular-victim",
   "metadata": {},
   "outputs": [
    {
     "data": {
      "text/plain": [
       "Text(0.5, 1.0, 'Numeric Variables Correlation Heatmap')"
      ]
     },
     "execution_count": 847,
     "metadata": {},
     "output_type": "execute_result"
    },
    {
     "data": {
      "image/png": "[encoded data removed]",
      "text/plain": [
       "<Figure size 432x288 with 2 Axes>"
      ]
     },
     "metadata": {
      "needs_background": "light"
     },
     "output_type": "display_data"
    }
   ],
   "source": [
    "#data mapping and dummifyng for Gender and Geography variables respectively\n",
    "\n",
    "data['Gender'] = (data['Gender'] == 'Female') * 1\n",
    "data = pd.get_dummies(data, prefix=['Geography'], columns=['Geography'], drop_first = True)\n",
    "\n",
    "#creating correlation heatmap \n",
    "ax = plt.axes()\n",
    "correlation = data.corr()\n",
    "sns.heatmap(correlation, square = True, cmap = 'Blues', ax = ax)\n",
    "plt.title('Numeric Variables Correlation Heatmap')\n"
   ]
  },
  {
   "cell_type": "markdown",
   "id": "prostate-speech",
   "metadata": {},
   "source": [
    "#### Step 2: Looking for outliers\n",
    "\n",
    "##### Observation - Age:\n",
    "\n",
    "We notice one impossible value of 190 in Age variable. The true value can't be 19 because the value for Tenure, assuming this is not also a typo, is 9 for this customer, and the minimum age to use bank products is 18. Given this data looks to be missing at random, and considering the relatively strong linear relationship between Age and IsActiveMember in our correlation however, we will choose to impute Age using simple linear regression with our other x variables"
   ]
  },
  {
   "cell_type": "code",
   "execution_count": 128,
   "id": "choice-compact",
   "metadata": {
    "scrolled": true
   },
   "outputs": [
    {
     "data": {
      "text/html": [
       "<div>\n",
       "<style scoped>\n",
       "    .dataframe tbody tr th:only-of-type {\n",
       "        vertical-align: middle;\n",
       "    }\n",
       "\n",
       "    .dataframe tbody tr th {\n",
       "        vertical-align: top;\n",
       "    }\n",
       "\n",
       "    .dataframe thead th {\n",
       "        text-align: right;\n",
       "    }\n",
       "</style>\n",
       "<table border=\"1\" class=\"dataframe\">\n",
       "  <thead>\n",
       "    <tr style=\"text-align: right;\">\n",
       "      <th></th>\n",
       "      <th>RowNumber</th>\n",
       "      <th>CustomerId</th>\n",
       "      <th>Surname</th>\n",
       "      <th>CreditScore</th>\n",
       "      <th>Geography</th>\n",
       "      <th>Gender</th>\n",
       "      <th>Age</th>\n",
       "      <th>Tenure</th>\n",
       "      <th>Balance</th>\n",
       "      <th>NumOfProducts</th>\n",
       "      <th>HasChckng</th>\n",
       "      <th>IsActiveMember</th>\n",
       "      <th>EstimatedSalary</th>\n",
       "      <th>Exited</th>\n",
       "    </tr>\n",
       "  </thead>\n",
       "  <tbody>\n",
       "    <tr>\n",
       "      <th>27</th>\n",
       "      <td>28</td>\n",
       "      <td>15700772</td>\n",
       "      <td>Nebechi</td>\n",
       "      <td>571.0</td>\n",
       "      <td>West</td>\n",
       "      <td>Male</td>\n",
       "      <td>190</td>\n",
       "      <td>9</td>\n",
       "      <td>0.0</td>\n",
       "      <td>2</td>\n",
       "      <td>0</td>\n",
       "      <td>0</td>\n",
       "      <td>38433.35</td>\n",
       "      <td>0</td>\n",
       "    </tr>\n",
       "  </tbody>\n",
       "</table>\n",
       "</div>"
      ],
      "text/plain": [
       "    RowNumber  CustomerId  Surname  CreditScore Geography Gender  Age  Tenure  \\\n",
       "27         28    15700772  Nebechi        571.0      West   Male  190       9   \n",
       "\n",
       "    Balance  NumOfProducts  HasChckng  IsActiveMember  EstimatedSalary  Exited  \n",
       "27      0.0              2          0               0         38433.35       0  "
      ]
     },
     "execution_count": 128,
     "metadata": {},
     "output_type": "execute_result"
    }
   ],
   "source": [
    "data.loc[data['Age'] == 190]"
   ]
  },
  {
   "cell_type": "code",
   "execution_count": 192,
   "id": "pending-closure",
   "metadata": {},
   "outputs": [
    {
     "data": {
      "text/html": [
       "<div>\n",
       "<style scoped>\n",
       "    .dataframe tbody tr th:only-of-type {\n",
       "        vertical-align: middle;\n",
       "    }\n",
       "\n",
       "    .dataframe tbody tr th {\n",
       "        vertical-align: top;\n",
       "    }\n",
       "\n",
       "    .dataframe thead th {\n",
       "        text-align: right;\n",
       "    }\n",
       "</style>\n",
       "<table border=\"1\" class=\"dataframe\">\n",
       "  <thead>\n",
       "    <tr style=\"text-align: right;\">\n",
       "      <th></th>\n",
       "      <th>Age</th>\n",
       "    </tr>\n",
       "  </thead>\n",
       "  <tbody>\n",
       "    <tr>\n",
       "      <th>Age</th>\n",
       "      <td>1.000000</td>\n",
       "    </tr>\n",
       "    <tr>\n",
       "      <th>IsActiveMember</th>\n",
       "      <td>0.084690</td>\n",
       "    </tr>\n",
       "    <tr>\n",
       "      <th>Exited</th>\n",
       "      <td>0.284525</td>\n",
       "    </tr>\n",
       "  </tbody>\n",
       "</table>\n",
       "</div>"
      ],
      "text/plain": [
       "                     Age\n",
       "Age             1.000000\n",
       "IsActiveMember  0.084690\n",
       "Exited          0.284525"
      ]
     },
     "execution_count": 192,
     "metadata": {},
     "output_type": "execute_result"
    }
   ],
   "source": [
    "#looking at stronger correlations values specifically with respect to Age\n",
    "def show_correlations(variable, threshold = 0.05):\n",
    "    return data.corr()[[variable]].loc[(data.corr()[[variable]][variable] > 0.05) \n",
    "                                       | (data.corr()[[variable]][variable] < -0.05)]\n",
    "show_correlations('Age')"
   ]
  },
  {
   "cell_type": "code",
   "execution_count": 849,
   "id": "persistent-invention",
   "metadata": {},
   "outputs": [
    {
     "name": "stdout",
     "output_type": "stream",
     "text": [
      "Predicted value is: 37.9598445595855\n"
     ]
    }
   ],
   "source": [
    "#using linear regression imputation using isActiveMember\n",
    "data_no_missing = data.loc[data['Age'] != 190]\n",
    "X_lnr = data_no_missing[['IsActiveMember']]\n",
    "y_lnr = data_no_missing['Age']\n",
    "\n",
    "#splitting ur data\n",
    "x_train_lnr, x_test_lnr, y_train_lnr, y_test_lnr = train_test_split(X_lnr, y_lnr, test_size = 0.2, random_state = 4)\n",
    "lnr = LinearRegression()\n",
    "lnr.fit(x_train_lnr, y_train_lnr)\n",
    "#extracting observation we want to predict\n",
    "predict_obs = pd.DataFrame(data.loc[data['Age'] == 190]['IsActiveMember'])\n",
    "predicted_value = lnr.predict(predict_obs)[0]\n",
    "print('Predicted value is:', predicted_value)\n",
    "#replace with our predicted value\n",
    "data['Age'] = data['Age'].replace([190],predicted_value)"
   ]
  },
  {
   "cell_type": "code",
   "execution_count": 740,
   "id": "acknowledged-welding",
   "metadata": {},
   "outputs": [],
   "source": [
    "#creating dataframe to visualize Exited percentages by Age subgroup\n",
    "bins = [10,20,30,40,50,60,70,80,90,102]\n",
    "age_groups = data.groupby([pd.cut(data.Age, bins)])['Exited'].sum() / data.groupby([pd.cut(data.Age, bins)])['Exited'].size()\n",
    "age_groups = pd.DataFrame(age_groups).reset_index()"
   ]
  },
  {
   "cell_type": "code",
   "execution_count": 973,
   "id": "mediterranean-housing",
   "metadata": {},
   "outputs": [
    {
     "data": {
      "image/png": "[encoded data removed]",
      "text/plain": [
       "<Figure size 504x288 with 1 Axes>"
      ]
     },
     "metadata": {
      "needs_background": "light"
     },
     "output_type": "display_data"
    }
   ],
   "source": [
    "#creating our Age vs Exited bar chart\n",
    "plt.figure(figsize = (7,4))\n",
    "plt.bar(age_groups['Age'].astype(str), age_groups['Exited'])\n",
    "plt.title('Percentage Exited by Age Group')\n",
    "plt.xlabel('Age Group')\n",
    "plt.ylabel('Percentage Exited')\n",
    "for x,y in zip(age_groups['Age'].astype(str),age_groups['Exited']):\n",
    "\n",
    "    label = \"{:.2f}\".format(y)\n",
    "\n",
    "    plt.annotate(label, # this is the text\n",
    "                 (x,y), # this is the point to label\n",
    "                 textcoords=\"offset points\", # how to position the text\n",
    "                 xytext=(0,10), # distance from text to points (x,y)\n",
    "                 ha='center') # horizontal alignment can be left, right or center\n",
    "plt.ylim(0,.65)\n",
    "plt.show()"
   ]
  },
  {
   "cell_type": "markdown",
   "id": "defensive-fourth",
   "metadata": {},
   "source": [
    "##### Observation - CreditScore:\n",
    "\n",
    "We notice one customer with a CreditScore = 865. While per the provided data dictionary the max value for a FICO score should be 850, we can keep this observation as this value is not signficantly different by any useful outlier measure i.e. Third Quartile + 1.5 * IQR from CreditScore variable and can therefore be kept. We also note per outside research that FICO scores do occasionally surpass 850, so this is slightly unsurprising"
   ]
  },
  {
   "cell_type": "code",
   "execution_count": 105,
   "id": "inappropriate-digest",
   "metadata": {},
   "outputs": [
    {
     "data": {
      "text/html": [
       "<div>\n",
       "<style scoped>\n",
       "    .dataframe tbody tr th:only-of-type {\n",
       "        vertical-align: middle;\n",
       "    }\n",
       "\n",
       "    .dataframe tbody tr th {\n",
       "        vertical-align: top;\n",
       "    }\n",
       "\n",
       "    .dataframe thead th {\n",
       "        text-align: right;\n",
       "    }\n",
       "</style>\n",
       "<table border=\"1\" class=\"dataframe\">\n",
       "  <thead>\n",
       "    <tr style=\"text-align: right;\">\n",
       "      <th></th>\n",
       "      <th>Surname</th>\n",
       "      <th>CreditScore</th>\n",
       "      <th>Geography</th>\n",
       "      <th>Gender</th>\n",
       "      <th>Age</th>\n",
       "      <th>Tenure</th>\n",
       "      <th>Balance</th>\n",
       "      <th>NumOfProducts</th>\n",
       "      <th>HasChckng</th>\n",
       "      <th>IsActiveMember</th>\n",
       "      <th>EstimatedSalary</th>\n",
       "      <th>Exited</th>\n",
       "    </tr>\n",
       "  </thead>\n",
       "  <tbody>\n",
       "    <tr>\n",
       "      <th>8</th>\n",
       "      <td>He</td>\n",
       "      <td>865.0</td>\n",
       "      <td>West</td>\n",
       "      <td>Male</td>\n",
       "      <td>44</td>\n",
       "      <td>4</td>\n",
       "      <td>142051.07</td>\n",
       "      <td>2</td>\n",
       "      <td>0</td>\n",
       "      <td>1</td>\n",
       "      <td>74940.5</td>\n",
       "      <td>0</td>\n",
       "    </tr>\n",
       "  </tbody>\n",
       "</table>\n",
       "</div>"
      ],
      "text/plain": [
       "  Surname  CreditScore Geography Gender  Age  Tenure    Balance  \\\n",
       "8      He        865.0      West   Male   44       4  142051.07   \n",
       "\n",
       "   NumOfProducts  HasChckng  IsActiveMember  EstimatedSalary  Exited  \n",
       "8              2          0               1          74940.5       0  "
      ]
     },
     "execution_count": 105,
     "metadata": {},
     "output_type": "execute_result"
    }
   ],
   "source": [
    "#looking at outlier\n",
    "data.loc[data['CreditScore'] > 850]"
   ]
  },
  {
   "cell_type": "markdown",
   "id": "alone-substitute",
   "metadata": {},
   "source": [
    "##### Observations - Tenure:\n",
    "\n",
    "We notice one customer with Tenure of 30 and Age of 29 which is impossible and indicates either either the Tenure or Age value (or both) are incorrect. We will choose to treat the Tenure value of 30 as a data entry mistake and look for ways to impute this value. Given the above correlation heatmap doesn't show any particularly strong linear relationships between Tenure and the other x variables in our dataset, we will choose to impute this incorrect value by the mean"
   ]
  },
  {
   "cell_type": "code",
   "execution_count": 113,
   "id": "impossible-experiment",
   "metadata": {
    "scrolled": true
   },
   "outputs": [
    {
     "data": {
      "text/html": [
       "<div>\n",
       "<style scoped>\n",
       "    .dataframe tbody tr th:only-of-type {\n",
       "        vertical-align: middle;\n",
       "    }\n",
       "\n",
       "    .dataframe tbody tr th {\n",
       "        vertical-align: top;\n",
       "    }\n",
       "\n",
       "    .dataframe thead th {\n",
       "        text-align: right;\n",
       "    }\n",
       "</style>\n",
       "<table border=\"1\" class=\"dataframe\">\n",
       "  <thead>\n",
       "    <tr style=\"text-align: right;\">\n",
       "      <th></th>\n",
       "      <th>Surname</th>\n",
       "      <th>CreditScore</th>\n",
       "      <th>Geography</th>\n",
       "      <th>Gender</th>\n",
       "      <th>Age</th>\n",
       "      <th>Tenure</th>\n",
       "      <th>Balance</th>\n",
       "      <th>NumOfProducts</th>\n",
       "      <th>HasChckng</th>\n",
       "      <th>IsActiveMember</th>\n",
       "      <th>EstimatedSalary</th>\n",
       "      <th>Exited</th>\n",
       "    </tr>\n",
       "  </thead>\n",
       "  <tbody>\n",
       "    <tr>\n",
       "      <th>7</th>\n",
       "      <td>Obinna</td>\n",
       "      <td>376.0</td>\n",
       "      <td>East</td>\n",
       "      <td>Female</td>\n",
       "      <td>29</td>\n",
       "      <td>30</td>\n",
       "      <td>115046.74</td>\n",
       "      <td>4</td>\n",
       "      <td>1</td>\n",
       "      <td>0</td>\n",
       "      <td>119346.88</td>\n",
       "      <td>1</td>\n",
       "    </tr>\n",
       "  </tbody>\n",
       "</table>\n",
       "</div>"
      ],
      "text/plain": [
       "  Surname  CreditScore Geography  Gender  Age  Tenure    Balance  \\\n",
       "7  Obinna        376.0      East  Female   29      30  115046.74   \n",
       "\n",
       "   NumOfProducts  HasChckng  IsActiveMember  EstimatedSalary  Exited  \n",
       "7              4          1               0        119346.88       1  "
      ]
     },
     "execution_count": 113,
     "metadata": {},
     "output_type": "execute_result"
    }
   ],
   "source": [
    "#looking at outlier\n",
    "data.loc[data['Tenure'] > 20]"
   ]
  },
  {
   "cell_type": "code",
   "execution_count": 786,
   "id": "southwest-casting",
   "metadata": {},
   "outputs": [
    {
     "data": {
      "image/png": "[encoded data removed]",
      "text/plain": [
       "<Figure size 432x288 with 1 Axes>"
      ]
     },
     "metadata": {
      "needs_background": "light"
     },
     "output_type": "display_data"
    }
   ],
   "source": [
    "#creating scatter plot of Age vs. Tenure to identify outliers\n",
    "plt.scatter(data['Age'],data['Tenure'], marker='o', s=15)\n",
    "plt.scatter(29, 30, c='red', marker='o', s=18)\n",
    "plt.scatter(190, 9, c='red', marker='o', s=18)\n",
    "plt.title('Age vs Tenure Scatter Plot')\n",
    "plt.xlabel('Age (years)')\n",
    "plt.ylabel('Tenure (years)')\n",
    "plt.show()"
   ]
  },
  {
   "cell_type": "markdown",
   "id": "orange-aquatic",
   "metadata": {},
   "source": [
    "There are several other observations where Tenure minus Age is lower than eighteen, which should be impossible given no minors should be legally allowed to use Bank products. Given Tenure is defined as 'Length of client relationship' in the data dictionary and not 'Amount of years using bank products' we will give this one a pass "
   ]
  },
  {
   "cell_type": "code",
   "execution_count": 701,
   "id": "mediterranean-pitch",
   "metadata": {},
   "outputs": [
    {
     "data": {
      "text/plain": [
       "(322, 13)"
      ]
     },
     "execution_count": 701,
     "metadata": {},
     "output_type": "execute_result"
    }
   ],
   "source": [
    "#looking at potential other outliers\n",
    "data.loc[(data['Age'] - data['Tenure'] < 18)].shape"
   ]
  },
  {
   "cell_type": "code",
   "execution_count": 193,
   "id": "mediterranean-belfast",
   "metadata": {},
   "outputs": [
    {
     "data": {
      "text/html": [
       "<div>\n",
       "<style scoped>\n",
       "    .dataframe tbody tr th:only-of-type {\n",
       "        vertical-align: middle;\n",
       "    }\n",
       "\n",
       "    .dataframe tbody tr th {\n",
       "        vertical-align: top;\n",
       "    }\n",
       "\n",
       "    .dataframe thead th {\n",
       "        text-align: right;\n",
       "    }\n",
       "</style>\n",
       "<table border=\"1\" class=\"dataframe\">\n",
       "  <thead>\n",
       "    <tr style=\"text-align: right;\">\n",
       "      <th></th>\n",
       "      <th>Tenure</th>\n",
       "    </tr>\n",
       "  </thead>\n",
       "  <tbody>\n",
       "    <tr>\n",
       "      <th>Tenure</th>\n",
       "      <td>1.0</td>\n",
       "    </tr>\n",
       "  </tbody>\n",
       "</table>\n",
       "</div>"
      ],
      "text/plain": [
       "        Tenure\n",
       "Tenure     1.0"
      ]
     },
     "execution_count": 193,
     "metadata": {},
     "output_type": "execute_result"
    }
   ],
   "source": [
    "#no discernible linear relationships between Tenure and other x variables\n",
    "show_correlations('Tenure')"
   ]
  },
  {
   "cell_type": "code",
   "execution_count": 850,
   "id": "crude-twins",
   "metadata": {},
   "outputs": [],
   "source": [
    "#replacing this value\n",
    "data['Tenure'] = data['Tenure'].replace([30], data['Tenure'].loc[data['Tenure'] < 30].mean())"
   ]
  },
  {
   "cell_type": "code",
   "execution_count": 983,
   "id": "brutal-polish",
   "metadata": {},
   "outputs": [
    {
     "data": {
      "text/plain": [
       "(array([ 413., 1035., 1048., 1009.,  988., 1013.,  967., 1028., 1025.,\n",
       "        1474.]),\n",
       " array([ 0.,  1.,  2.,  3.,  4.,  5.,  6.,  7.,  8.,  9., 10.]),\n",
       " <BarContainer object of 10 artists>)"
      ]
     },
     "execution_count": 983,
     "metadata": {},
     "output_type": "execute_result"
    },
    {
     "data": {
      "image/png": "[encoded data removed]",
      "text/plain": [
       "<Figure size 432x288 with 1 Axes>"
      ]
     },
     "metadata": {
      "needs_background": "light"
     },
     "output_type": "display_data"
    }
   ],
   "source": [
    "#creating histogram of Tenure\n",
    "plt.hist(data['Tenure'])"
   ]
  },
  {
   "cell_type": "markdown",
   "id": "living-dragon",
   "metadata": {},
   "source": [
    "##### Observation - Balance:\n",
    "\n",
    "From our histogram of the Balance variable, there don't look to be any outliers to address, and it makes sense \n",
    "that a large amount of customers would have bank balances of zero"
   ]
  },
  {
   "cell_type": "code",
   "execution_count": 974,
   "id": "enabling-richards",
   "metadata": {
    "scrolled": true
   },
   "outputs": [
    {
     "data": {
      "text/plain": [
       "Text(0, 0.5, 'Count')"
      ]
     },
     "execution_count": 974,
     "metadata": {},
     "output_type": "execute_result"
    },
    {
     "data": {
      "image/png": "[encoded data removed]",
      "text/plain": [
       "<Figure size 504x288 with 1 Axes>"
      ]
     },
     "metadata": {
      "needs_background": "light"
     },
     "output_type": "display_data"
    }
   ],
   "source": [
    "#let's look at distribution of our Balance variable \n",
    "plt.figure(figsize = (7,4))\n",
    "_ = plt.hist(data['Balance'], bins = 50)\n",
    "plt.title('Distribution of Balance variable')\n",
    "plt.xlabel('Balance')\n",
    "plt.ylabel('Count')"
   ]
  },
  {
   "cell_type": "markdown",
   "id": "strange-crowd",
   "metadata": {},
   "source": [
    "##### Observation - NumOfProducts:\n",
    "\n",
    "The observation that all 60 customers using 4 products ended up churning is very surprising. Taking a closer look at these 60 customer observations doesn't make anything about these customers jump out except that they all churned. We expect NumOfProdcuts to be a highly predictive feature in our models later on"
   ]
  },
  {
   "cell_type": "code",
   "execution_count": 762,
   "id": "private-terry",
   "metadata": {},
   "outputs": [],
   "source": [
    "#creating dataframe to visualize Churn by NumOfProducts subgroup \n",
    "num_products_groups = data.groupby('NumOfProducts')['Exited'].sum() / data.groupby('NumOfProducts')['Exited'].size()\n",
    "num_products_groups = num_products_groups.reset_index()"
   ]
  },
  {
   "cell_type": "code",
   "execution_count": 975,
   "id": "amateur-executive",
   "metadata": {},
   "outputs": [
    {
     "data": {
      "image/png": "[encoded data removed]",
      "text/plain": [
       "<Figure size 504x288 with 1 Axes>"
      ]
     },
     "metadata": {
      "needs_background": "light"
     },
     "output_type": "display_data"
    }
   ],
   "source": [
    "#visualize Churn rates by NumOfProducts subgroup \n",
    "plt.figure(figsize = (7,4))\n",
    "plt.bar(num_products_groups['NumOfProducts'].astype(str), num_products_groups['Exited'])\n",
    "plt.title('Percentage Exited by NumOfProducts Group')\n",
    "plt.xlabel('NumOfProducts Group')\n",
    "plt.ylabel('Percentage Exited')\n",
    "for x,y in zip(num_products_groups['NumOfProducts'].astype(str),num_products_groups['Exited']):\n",
    "\n",
    "    label = \"{:.2f}\".format(y)\n",
    "\n",
    "    plt.annotate(label, # this is the text\n",
    "                 (x,y), # this is the point to label\n",
    "                 textcoords=\"offset points\", # how to position the text\n",
    "                 xytext=(0,10), # distance from text to points (x,y)\n",
    "                 ha='center') # horizontal alignment can be left, right or center\n",
    "plt.ylim(0,1.1)\n",
    "plt.show()"
   ]
  },
  {
   "cell_type": "markdown",
   "id": "exotic-drawing",
   "metadata": {},
   "source": [
    "##### Observation - IsActiveMember:\n",
    "\n",
    "We note right off the bat that customers marked as being inactive are twice as likely to churn than active customers"
   ]
  },
  {
   "cell_type": "code",
   "execution_count": 496,
   "id": "steady-terrain",
   "metadata": {},
   "outputs": [
    {
     "data": {
      "text/plain": [
       "IsActiveMember\n",
       "0    0.268509\n",
       "1    0.142691\n",
       "Name: Exited, dtype: float64"
      ]
     },
     "execution_count": 496,
     "metadata": {},
     "output_type": "execute_result"
    }
   ],
   "source": [
    "#looking at Churn rates by IsActiveMember subgroup\n",
    "data.groupby('IsActiveMember')['Exited'].sum() / data.groupby('IsActiveMember')['Exited'].size() "
   ]
  },
  {
   "cell_type": "markdown",
   "id": "japanese-samuel",
   "metadata": {},
   "source": [
    "##### Observation - EstimatedSalary:\n",
    "\n",
    "Somewhat interesting there are no customers with estimated salaries above 200k. Wonder if this is the way that the data was queried or due to something else"
   ]
  },
  {
   "cell_type": "code",
   "execution_count": 208,
   "id": "extreme-watson",
   "metadata": {},
   "outputs": [
    {
     "data": {
      "image/png": "[encoded data removed]",
      "text/plain": [
       "<Figure size 432x288 with 1 Axes>"
      ]
     },
     "metadata": {
      "needs_background": "light"
     },
     "output_type": "display_data"
    }
   ],
   "source": [
    "#looking at distribution of EstimatedSalary variable\n",
    "_ = plt.hist(data['EstimatedSalary'], bins = 50)"
   ]
  },
  {
   "cell_type": "markdown",
   "id": "rotary-brick",
   "metadata": {},
   "source": [
    "#### Observation - Gender\n",
    "\n",
    "We observe that female-identifying customers are 1.5 times more likely to churn than their male counterparts. We expect Gender to be an important predictor later on"
   ]
  },
  {
   "cell_type": "code",
   "execution_count": 705,
   "id": "floating-environment",
   "metadata": {},
   "outputs": [
    {
     "data": {
      "text/plain": [
       "Gender\n",
       "0    0.164805\n",
       "1    0.250496\n",
       "Name: Exited, dtype: float64"
      ]
     },
     "execution_count": 705,
     "metadata": {},
     "output_type": "execute_result"
    }
   ],
   "source": [
    "#looking at Churn rates by Gender subgroup\n",
    "data.groupby('Gender')['Exited'].mean()"
   ]
  },
  {
   "cell_type": "markdown",
   "id": "organized-helmet",
   "metadata": {},
   "source": [
    "#### Step 3: Looking for missing data\n",
    "\n",
    "##### Observations:\n",
    "\n",
    "We notice three missing values in CreditScore variable. Looking at these observations, while it initially stands out that these missing values all belong to Male customers above the age of 35 not from the East Region, we observe that these are all customers with salaries > 120k, using at least one banking product, with two having non-insignificant savings balances of >80k, which tells us these are people that should realistically not only have a CreditScore but have a CreditScore that is not too low. We will therefore choose to impute these missing values with the mean \n",
    "\n",
    "We notice one CreditScore value of 305 and one of 865 which while being lower and greater than the 350 to 850 range specified in the provided data dictionary is left untreated given these values are not significantly different from standard outlier measures "
   ]
  },
  {
   "cell_type": "code",
   "execution_count": 215,
   "id": "civic-diagram",
   "metadata": {},
   "outputs": [
    {
     "data": {
      "text/html": [
       "<div>\n",
       "<style scoped>\n",
       "    .dataframe tbody tr th:only-of-type {\n",
       "        vertical-align: middle;\n",
       "    }\n",
       "\n",
       "    .dataframe tbody tr th {\n",
       "        vertical-align: top;\n",
       "    }\n",
       "\n",
       "    .dataframe thead th {\n",
       "        text-align: right;\n",
       "    }\n",
       "</style>\n",
       "<table border=\"1\" class=\"dataframe\">\n",
       "  <thead>\n",
       "    <tr style=\"text-align: right;\">\n",
       "      <th></th>\n",
       "      <th>Missing Values</th>\n",
       "    </tr>\n",
       "  </thead>\n",
       "  <tbody>\n",
       "    <tr>\n",
       "      <th>CreditScore</th>\n",
       "      <td>3</td>\n",
       "    </tr>\n",
       "  </tbody>\n",
       "</table>\n",
       "</div>"
      ],
      "text/plain": [
       "             Missing Values\n",
       "CreditScore               3"
      ]
     },
     "execution_count": 215,
     "metadata": {},
     "output_type": "execute_result"
    }
   ],
   "source": [
    "#looking at missing data \n",
    "\n",
    "missing_data = pd.DataFrame(data.isna().sum(), columns = ['Missing Values'])\n",
    "missing_data.loc[missing_data['Missing Values'] > 0]"
   ]
  },
  {
   "cell_type": "code",
   "execution_count": 123,
   "id": "settled-floating",
   "metadata": {},
   "outputs": [
    {
     "data": {
      "text/html": [
       "<div>\n",
       "<style scoped>\n",
       "    .dataframe tbody tr th:only-of-type {\n",
       "        vertical-align: middle;\n",
       "    }\n",
       "\n",
       "    .dataframe tbody tr th {\n",
       "        vertical-align: top;\n",
       "    }\n",
       "\n",
       "    .dataframe thead th {\n",
       "        text-align: right;\n",
       "    }\n",
       "</style>\n",
       "<table border=\"1\" class=\"dataframe\">\n",
       "  <thead>\n",
       "    <tr style=\"text-align: right;\">\n",
       "      <th></th>\n",
       "      <th>RowNumber</th>\n",
       "      <th>CustomerId</th>\n",
       "      <th>Surname</th>\n",
       "      <th>CreditScore</th>\n",
       "      <th>Geography</th>\n",
       "      <th>Gender</th>\n",
       "      <th>Age</th>\n",
       "      <th>Tenure</th>\n",
       "      <th>Balance</th>\n",
       "      <th>NumOfProducts</th>\n",
       "      <th>HasChckng</th>\n",
       "      <th>IsActiveMember</th>\n",
       "      <th>EstimatedSalary</th>\n",
       "      <th>Exited</th>\n",
       "    </tr>\n",
       "  </thead>\n",
       "  <tbody>\n",
       "    <tr>\n",
       "      <th>459</th>\n",
       "      <td>460</td>\n",
       "      <td>15662976</td>\n",
       "      <td>Lettiere</td>\n",
       "      <td>NaN</td>\n",
       "      <td>Central</td>\n",
       "      <td>Male</td>\n",
       "      <td>37</td>\n",
       "      <td>8</td>\n",
       "      <td>0.00</td>\n",
       "      <td>1</td>\n",
       "      <td>1</td>\n",
       "      <td>1</td>\n",
       "      <td>186062.36</td>\n",
       "      <td>0</td>\n",
       "    </tr>\n",
       "    <tr>\n",
       "      <th>497</th>\n",
       "      <td>498</td>\n",
       "      <td>15733616</td>\n",
       "      <td>Sopuluchukwu</td>\n",
       "      <td>NaN</td>\n",
       "      <td>West</td>\n",
       "      <td>Male</td>\n",
       "      <td>40</td>\n",
       "      <td>5</td>\n",
       "      <td>80613.93</td>\n",
       "      <td>1</td>\n",
       "      <td>1</td>\n",
       "      <td>1</td>\n",
       "      <td>142838.64</td>\n",
       "      <td>0</td>\n",
       "    </tr>\n",
       "    <tr>\n",
       "      <th>625</th>\n",
       "      <td>626</td>\n",
       "      <td>15604119</td>\n",
       "      <td>Alderete</td>\n",
       "      <td>NaN</td>\n",
       "      <td>Central</td>\n",
       "      <td>Male</td>\n",
       "      <td>35</td>\n",
       "      <td>7</td>\n",
       "      <td>110349.82</td>\n",
       "      <td>1</td>\n",
       "      <td>0</td>\n",
       "      <td>0</td>\n",
       "      <td>126355.80</td>\n",
       "      <td>0</td>\n",
       "    </tr>\n",
       "  </tbody>\n",
       "</table>\n",
       "</div>"
      ],
      "text/plain": [
       "     RowNumber  CustomerId       Surname  CreditScore Geography Gender  Age  \\\n",
       "459        460    15662976      Lettiere          NaN   Central   Male   37   \n",
       "497        498    15733616  Sopuluchukwu          NaN      West   Male   40   \n",
       "625        626    15604119      Alderete          NaN   Central   Male   35   \n",
       "\n",
       "     Tenure    Balance  NumOfProducts  HasChckng  IsActiveMember  \\\n",
       "459       8       0.00              1          1               1   \n",
       "497       5   80613.93              1          1               1   \n",
       "625       7  110349.82              1          0               0   \n",
       "\n",
       "     EstimatedSalary  Exited  \n",
       "459        186062.36       0  \n",
       "497        142838.64       0  \n",
       "625        126355.80       0  "
      ]
     },
     "execution_count": 123,
     "metadata": {},
     "output_type": "execute_result"
    }
   ],
   "source": [
    "#looking at three missing CreditScore values \n",
    "data.loc[data.CreditScore.isnull()]"
   ]
  },
  {
   "cell_type": "code",
   "execution_count": 216,
   "id": "funny-phenomenon",
   "metadata": {},
   "outputs": [
    {
     "data": {
      "text/html": [
       "<div>\n",
       "<style scoped>\n",
       "    .dataframe tbody tr th:only-of-type {\n",
       "        vertical-align: middle;\n",
       "    }\n",
       "\n",
       "    .dataframe tbody tr th {\n",
       "        vertical-align: top;\n",
       "    }\n",
       "\n",
       "    .dataframe thead th {\n",
       "        text-align: right;\n",
       "    }\n",
       "</style>\n",
       "<table border=\"1\" class=\"dataframe\">\n",
       "  <thead>\n",
       "    <tr style=\"text-align: right;\">\n",
       "      <th></th>\n",
       "      <th>CreditScore</th>\n",
       "    </tr>\n",
       "  </thead>\n",
       "  <tbody>\n",
       "    <tr>\n",
       "      <th>CreditScore</th>\n",
       "      <td>1.0</td>\n",
       "    </tr>\n",
       "  </tbody>\n",
       "</table>\n",
       "</div>"
      ],
      "text/plain": [
       "             CreditScore\n",
       "CreditScore          1.0"
      ]
     },
     "execution_count": 216,
     "metadata": {},
     "output_type": "execute_result"
    }
   ],
   "source": [
    "#no > |0.05| correlations so mean imputation instead of linear regression imputation should make more sense \n",
    "show_correlations('CreditScore')"
   ]
  },
  {
   "cell_type": "code",
   "execution_count": 851,
   "id": "annoying-campus",
   "metadata": {},
   "outputs": [],
   "source": [
    "#imputing missing values to the mean\n",
    "data.CreditScore.fillna(data.CreditScore.mean(), inplace = True)"
   ]
  },
  {
   "cell_type": "code",
   "execution_count": 793,
   "id": "automatic-butter",
   "metadata": {},
   "outputs": [
    {
     "data": {
      "text/html": [
       "<div>\n",
       "<style scoped>\n",
       "    .dataframe tbody tr th:only-of-type {\n",
       "        vertical-align: middle;\n",
       "    }\n",
       "\n",
       "    .dataframe tbody tr th {\n",
       "        vertical-align: top;\n",
       "    }\n",
       "\n",
       "    .dataframe thead th {\n",
       "        text-align: right;\n",
       "    }\n",
       "</style>\n",
       "<table border=\"1\" class=\"dataframe\">\n",
       "  <thead>\n",
       "    <tr style=\"text-align: right;\">\n",
       "      <th></th>\n",
       "      <th>Surname</th>\n",
       "      <th>CreditScore</th>\n",
       "      <th>Geography</th>\n",
       "      <th>Gender</th>\n",
       "      <th>Age</th>\n",
       "      <th>Tenure</th>\n",
       "      <th>Balance</th>\n",
       "      <th>NumOfProducts</th>\n",
       "      <th>HasChckng</th>\n",
       "      <th>IsActiveMember</th>\n",
       "      <th>EstimatedSalary</th>\n",
       "      <th>Exited</th>\n",
       "    </tr>\n",
       "  </thead>\n",
       "  <tbody>\n",
       "    <tr>\n",
       "      <th>8</th>\n",
       "      <td>He</td>\n",
       "      <td>865.0</td>\n",
       "      <td>West</td>\n",
       "      <td>Male</td>\n",
       "      <td>44</td>\n",
       "      <td>4</td>\n",
       "      <td>142051.07</td>\n",
       "      <td>2</td>\n",
       "      <td>0</td>\n",
       "      <td>1</td>\n",
       "      <td>74940.50</td>\n",
       "      <td>0</td>\n",
       "    </tr>\n",
       "    <tr>\n",
       "      <th>90</th>\n",
       "      <td>Heap</td>\n",
       "      <td>305.0</td>\n",
       "      <td>Central</td>\n",
       "      <td>Female</td>\n",
       "      <td>44</td>\n",
       "      <td>5</td>\n",
       "      <td>0.00</td>\n",
       "      <td>3</td>\n",
       "      <td>1</td>\n",
       "      <td>1</td>\n",
       "      <td>174205.22</td>\n",
       "      <td>1</td>\n",
       "    </tr>\n",
       "  </tbody>\n",
       "</table>\n",
       "</div>"
      ],
      "text/plain": [
       "   Surname  CreditScore Geography  Gender  Age  Tenure    Balance  \\\n",
       "8       He        865.0      West    Male   44       4  142051.07   \n",
       "90    Heap        305.0   Central  Female   44       5       0.00   \n",
       "\n",
       "    NumOfProducts  HasChckng  IsActiveMember  EstimatedSalary  Exited  \n",
       "8               2          0               1         74940.50       0  \n",
       "90              3          1               1        174205.22       1  "
      ]
     },
     "execution_count": 793,
     "metadata": {},
     "output_type": "execute_result"
    }
   ],
   "source": [
    "#looking at potential other CreditScore outliers - we decide these are OK to keep per above comment\n",
    "data.loc[(data['CreditScore'] > 850) | (data['CreditScore'] < 350)]"
   ]
  },
  {
   "cell_type": "markdown",
   "id": "military-issue",
   "metadata": {},
   "source": [
    "### Feature Engineering\n",
    "#### Step 1: Adding in ethnicity frequency information by Surname from census data \n",
    "\n",
    "We will cross-reference census.gov data on Surnames to add in ethnicity frequency information for that Surname and look to see if this can yield additional useful information for our models\n",
    "\n",
    "Source: https://www.census.gov/topics/population/genealogy/data/2010_surnames.html"
   ]
  },
  {
   "cell_type": "code",
   "execution_count": 853,
   "id": "arctic-rehabilitation",
   "metadata": {
    "scrolled": true
   },
   "outputs": [],
   "source": [
    "#reading in our census data \n",
    "census = pd.read_csv('Names_2010Census.csv', sep = ',')\n",
    "\n",
    "#creating SQL database \n",
    "Path('census.db').touch()\n",
    "conn = sqlite3.connect('census.db')\n",
    "c = conn.cursor()\n",
    "census.to_sql('census', conn, if_exists='append', index = False)"
   ]
  },
  {
   "cell_type": "markdown",
   "id": "wooden-reason",
   "metadata": {},
   "source": [
    "Our SQL Database has 162,254 total surname records"
   ]
  },
  {
   "cell_type": "code",
   "execution_count": 237,
   "id": "packed-oregon",
   "metadata": {},
   "outputs": [
    {
     "data": {
      "text/plain": [
       "[(162254,)]"
      ]
     },
     "execution_count": 237,
     "metadata": {},
     "output_type": "execute_result"
    }
   ],
   "source": [
    "#looking at size of our Census dataframe\n",
    "c.execute('''SELECT count(*) FROM census''').fetchall()"
   ]
  },
  {
   "cell_type": "markdown",
   "id": "paperback-prince",
   "metadata": {},
   "source": [
    "#### Observation: Ethnicity variables\n",
    "\n",
    "We notice several of the ethnicity variables have observations with (S) in cases where the information was suppressed for confidentiality reasons per the census.gov data dictionary. Since we observe these (S) values occur in cases where another or several of the other ethicity groups already account for 90% or more of the Surname population, we will impute these to zero"
   ]
  },
  {
   "cell_type": "code",
   "execution_count": 854,
   "id": "aging-canyon",
   "metadata": {},
   "outputs": [],
   "source": [
    "#merging dataframes on Surname\n",
    "\n",
    "#transforming Surname in census data \n",
    "census.rename({'name':'Surname'}, axis = 1, inplace = True)\n",
    "census['Surname'] = census['Surname'].astype(str)\n",
    "census['Surname'] = census.Surname.apply(lambda x: x.title())\n",
    "\n",
    "#dropping superfluous census columns\n",
    "census.drop(['rank','count','cum_prop100k'], axis = 1, inplace = True)\n",
    "\n",
    "#replacing suppressed values with zero\n",
    "cols = ['pctwhite','pctblack','pctapi','pctaian','pct2prace','pcthispanic']\n",
    "census[cols] = census[cols].replace({'(S)':0})\n",
    "census[cols] = census[cols].astype(np.float32)\n",
    "data2 = pd.merge(data, census, how = 'left', on = 'Surname')\n",
    "data2['prop100k'] = data2['prop100k'].fillna(0.01)"
   ]
  },
  {
   "cell_type": "markdown",
   "id": "exceptional-chain",
   "metadata": {},
   "source": [
    "We still have ~850 Surnames in the dataset that do not appear in the census dataset and therefore have missing values for our demographic variables. We will choose to impute these missing values to the average prevalence of that ethnicity group in the US per https://www.census.gov/quickfacts/fact/table/US/PST045219"
   ]
  },
  {
   "cell_type": "code",
   "execution_count": 412,
   "id": "temporal-namibia",
   "metadata": {},
   "outputs": [
    {
     "data": {
      "text/plain": [
       "845"
      ]
     },
     "execution_count": 412,
     "metadata": {},
     "output_type": "execute_result"
    }
   ],
   "source": [
    "#looking at number of unique Surnames with no demographic information \n",
    "data2.loc[data2['pctwhite'].isnull()].groupby('Surname')[['Age']].count().shape[0]"
   ]
  },
  {
   "cell_type": "code",
   "execution_count": 855,
   "id": "popular-tobago",
   "metadata": {},
   "outputs": [],
   "source": [
    "#creating imputation values\n",
    "census_pctwhite = 59.1\n",
    "census_pctblack = 13.2\n",
    "census_pctaian = 1.3\n",
    "census_pctapi = 6.1\n",
    "census_pct2prace = 2.6\n",
    "census_pcthispanic = 17.7\n",
    "\n",
    "#imputing \n",
    "data2['pctwhite'] = data2['pctwhite'].fillna(census_pctwhite)\n",
    "data2['pctblack'] = data2['pctblack'].fillna(census_pctblack)\n",
    "data2['pctaian'] = data2['pctaian'].fillna(census_pctaian)\n",
    "data2['pctapi'] = data2['pctapi'].fillna(census_pctapi)\n",
    "data2['pct2prace'] = data2['pct2prace'].fillna(census_pct2prace)\n",
    "data2['pcthispanic'] = data2['pcthispanic'].fillna(census_pcthispanic)"
   ]
  },
  {
   "cell_type": "markdown",
   "id": "hispanic-maldives",
   "metadata": {},
   "source": [
    "#### Step 2: Looking at extracting additional information from Surname\n",
    "\n",
    "We noted earlier there were ~7k observations with surnames appearing elsewhere in the dataset. We will cross-reference census.gov data on frequency of surnames to see if we may create an additonal variable that captures if we think with a reasonable degree of certainty that some duplicate Surnames are potentially relatives, and therefore might exhibit higher / lower group tendencies to churn together\n",
    "\n",
    "Source: https://www.census.gov/topics/population/genealogy/data/2010_surnames.html"
   ]
  },
  {
   "cell_type": "code",
   "execution_count": 275,
   "id": "dominant-bread",
   "metadata": {},
   "outputs": [],
   "source": [
    "#looking at cutoff values to determine best cutoff value to create Relative variable\n",
    "same_surnames_mean = data2.loc[data2['prop100k'] <= 0.08].\\\n",
    "    groupby('Surname')[['Age','Exited']].agg({'Age':'count','Exited':'sum'}).reset_index()\n",
    "same_surnames_mean.rename({'Age':'Count'}, axis = 1, inplace = True)\n",
    "same_surnames_mean['Perc_Exited'] = same_surnames_mean.Exited / same_surnames_mean.Count"
   ]
  },
  {
   "cell_type": "markdown",
   "id": "future-portugal",
   "metadata": {},
   "source": [
    "#### Observation: Chi-squared test\n",
    "\n",
    "We will use multiple chi-squared tests using different prop100k cutoff values to find the best subset of our data that shows the greatest dependence with our Exited variable"
   ]
  },
  {
   "cell_type": "code",
   "execution_count": 667,
   "id": "excessive-miracle",
   "metadata": {},
   "outputs": [
    {
     "data": {
      "text/plain": [
       "1374"
      ]
     },
     "execution_count": 667,
     "metadata": {},
     "output_type": "execute_result"
    }
   ],
   "source": [
    "#creating list of Surnames with counts > 1 in our dataset\n",
    "\n",
    "surnames = data2.groupby('Surname')['Age'].count().reset_index()\n",
    "surnames.rename({'Age':'Count'}, axis = 1, inplace = True)\n",
    "surnames = surnames.loc[surnames['Count'] > 1]\n",
    "surnames = list(surnames.Surname)\n",
    "len(surnames)"
   ]
  },
  {
   "cell_type": "code",
   "execution_count": 668,
   "id": "practical-married",
   "metadata": {},
   "outputs": [
    {
     "data": {
      "text/html": [
       "<div>\n",
       "<style scoped>\n",
       "    .dataframe tbody tr th:only-of-type {\n",
       "        vertical-align: middle;\n",
       "    }\n",
       "\n",
       "    .dataframe tbody tr th {\n",
       "        vertical-align: top;\n",
       "    }\n",
       "\n",
       "    .dataframe thead th {\n",
       "        text-align: right;\n",
       "    }\n",
       "</style>\n",
       "<table border=\"1\" class=\"dataframe\">\n",
       "  <thead>\n",
       "    <tr style=\"text-align: right;\">\n",
       "      <th></th>\n",
       "      <th>Not_Related</th>\n",
       "      <th>Related</th>\n",
       "    </tr>\n",
       "  </thead>\n",
       "  <tbody>\n",
       "    <tr>\n",
       "      <th>Exited</th>\n",
       "      <td>1540</td>\n",
       "      <td>497</td>\n",
       "    </tr>\n",
       "    <tr>\n",
       "      <th>Did_Not_Exit</th>\n",
       "      <td>5963</td>\n",
       "      <td>2000</td>\n",
       "    </tr>\n",
       "  </tbody>\n",
       "</table>\n",
       "</div>"
      ],
      "text/plain": [
       "              Not_Related  Related\n",
       "Exited               1540      497\n",
       "Did_Not_Exit         5963     2000"
      ]
     },
     "execution_count": 668,
     "metadata": {},
     "output_type": "execute_result"
    }
   ],
   "source": [
    "#performing chi square test\n",
    "\n",
    "def chi_squared_test(cutoff):\n",
    "\n",
    "    #splitting data\n",
    "    same_surnames_exited = data2.loc[(data2['prop100k'] <= cutoff) & \n",
    "                                    data2['Surname'].isin(surnames)][['Exited']]\n",
    "    same_surnames_exited_index = list(same_surnames_exited.index.values)\n",
    "    data_exited = data2[~data2.index.isin(same_surnames_exited_index)][['Exited']]\n",
    "    \n",
    "    #creating contingency table \n",
    "    data_chi_test = pd.DataFrame({'Not_Related':[data_exited.sum()[0],\n",
    "                                           data_exited.loc[data_exited['Exited'] == 0].shape[0]],\n",
    "                                  'Related':[same_surnames_exited.sum()[0],\n",
    "                                             same_surnames_exited.loc[same_surnames_exited['Exited'] == 0].shape[0]]},\n",
    "                            index = ['Exited','Did_Not_Exit'])\n",
    "    #return data_chi_test\n",
    "    stat, p, dof, expected = chi2_contingency(data_chi_test)\n",
    "    return p\n",
    "chi_squared_test(0.055)"
   ]
  },
  {
   "cell_type": "code",
   "execution_count": 963,
   "id": "impressive-apple",
   "metadata": {},
   "outputs": [
    {
     "data": {
      "text/plain": [
       "(0.0, 24.0)"
      ]
     },
     "execution_count": 963,
     "metadata": {},
     "output_type": "execute_result"
    },
    {
     "data": {
      "image/png": "[encoded data removed]",
      "text/plain": [
       "<Figure size 432x288 with 1 Axes>"
      ]
     },
     "metadata": {
      "needs_background": "light"
     },
     "output_type": "display_data"
    }
   ],
   "source": [
    "#visualizing churn rates by Relative group\n",
    "plt.bar(['Relatives','No Relatives'],[19.9,20.5])\n",
    "plt.title('Churn Percentages by Relative Group')\n",
    "plt.ylabel('Churn Rate (%)')\n",
    "\n",
    "for x,y in zip(['Relatives','No Relatives'],[19.9,20.5]):\n",
    "\n",
    "    label = \"{:.2f}\".format(y)\n",
    "\n",
    "    plt.annotate(label, # this is the text\n",
    "                 (x,y), # this is the point to label\n",
    "                 textcoords=\"offset points\", # how to position the text\n",
    "                 xytext=(0,10), # distance from text to points (x,y)\n",
    "                 ha='center') # horizontal alignment can be left, right or center\n",
    "    \n",
    "plt.ylim(0,24)"
   ]
  },
  {
   "cell_type": "code",
   "execution_count": null,
   "id": "following-projector",
   "metadata": {},
   "outputs": [],
   "source": [
    "#splitting data\n",
    "same_surnames_exited = data2.loc[(data2['prop100k'] <= 0.055) & \n",
    "                                data2['Surname'].isin(surnames)][['Exited']]\n",
    "same_surnames_exited_index = list(same_surnames_exited.index.values)\n",
    "data_exited = data2[~data2.index.isin(same_surnames_exited_index)][['Exited']]\n",
    "\n",
    "#creating contingency table \n",
    "data_chi_test = pd.DataFrame({'Not_Related':[data_exited.sum()[0],\n",
    "                                       data_exited.loc[data_exited['Exited'] == 0].shape[0]],\n",
    "                              'Related':[same_surnames_exited.sum()[0],\n",
    "                                         same_surnames_exited.loc[same_surnames_exited['Exited'] == 0].shape[0]]},\n",
    "                        index = ['Exited','Did_Not_Exit'])\n",
    "data_chi_test"
   ]
  },
  {
   "cell_type": "markdown",
   "id": "known-rabbit",
   "metadata": {},
   "source": [
    "#### Observation: Chi-squared test\n",
    "\n",
    "We can see a cutoff values of ~0.055 and ~0.15 for prop100k yields the lowest p-value, though this p-value is still nowhere near significant. Still, we will use the lower cutoff value of these two to create a 'Relative' variable where we think that person may have with a reasonable degree of certainty a relative in the dataset"
   ]
  },
  {
   "cell_type": "code",
   "execution_count": 663,
   "id": "viral-services",
   "metadata": {},
   "outputs": [
    {
     "data": {
      "image/png": "[encoded data removed]",
      "text/plain": [
       "<Figure size 432x288 with 1 Axes>"
      ]
     },
     "metadata": {
      "needs_background": "light"
     },
     "output_type": "display_data"
    }
   ],
   "source": [
    "#looking at p-values of chi square tests of our engineered Relative variable vs Exited for different cutoff\n",
    "#values of prop100k\n",
    "cutoffs = list(np.linspace(0.01,0.5,100))\n",
    "pvalues = []\n",
    "for cutoff in cutoffs:\n",
    "    pvalues.append(chi_squared_test(cutoff))\n",
    "plt.plot(cutoffs, pvalues, '-o')\n",
    "plt.title('Chi-square test p-values by prop100k cutoff values')\n",
    "plt.xlabel('prop100k cutoff value')\n",
    "plt.ylabel('p-value')\n",
    "plt.show()"
   ]
  },
  {
   "cell_type": "code",
   "execution_count": 857,
   "id": "quick-broadcast",
   "metadata": {},
   "outputs": [],
   "source": [
    "#creating Relative variable \n",
    "\n",
    "data2['Relative'] = np.where((data2['prop100k'] <= 0.055) & \n",
    "                                    data2['Surname'].isin(surnames), 1, 0)"
   ]
  },
  {
   "cell_type": "code",
   "execution_count": 858,
   "id": "mobile-positive",
   "metadata": {},
   "outputs": [],
   "source": [
    "#dropping Surname and prop100k as these variables could potentially now cause our models to overfit random noise\n",
    "data2.drop(['Surname','prop100k'], axis = 1, inplace = True)"
   ]
  },
  {
   "cell_type": "markdown",
   "id": "naked-syndicate",
   "metadata": {},
   "source": [
    "### Model Training\n",
    "#### Step 1: Splitting data, parameterizing and training models\n",
    "\n",
    "We set train_test_split stratify parameter to True to ensure our models see the same proportion of 1's and 0's observations in each training phase "
   ]
  },
  {
   "cell_type": "code",
   "execution_count": 859,
   "id": "temporal-tennessee",
   "metadata": {},
   "outputs": [],
   "source": [
    "#preparing our data\n",
    "\n",
    "y = data2['Exited']\n",
    "X = data2.drop(['Exited'], axis = 1)\n",
    "\n",
    "x_train, x_test, y_train, y_test = train_test_split(X, y, test_size = 0.33, stratify = y, random_state = 42)\n"
   ]
  },
  {
   "cell_type": "code",
   "execution_count": 867,
   "id": "bearing-tobago",
   "metadata": {},
   "outputs": [],
   "source": [
    "#pickling our xtest data for DashApp & Flaskapp use\n",
    "\n",
    "with open('x_test.pickle','wb') as xtest_path:\n",
    "    pickle.dump(x_test, xtest_path)"
   ]
  },
  {
   "cell_type": "markdown",
   "id": "young-sussex",
   "metadata": {},
   "source": [
    "#### Step 2: Linear Models - Logistic Regression"
   ]
  },
  {
   "cell_type": "code",
   "execution_count": 570,
   "id": "fancy-airplane",
   "metadata": {},
   "outputs": [
    {
     "data": {
      "text/plain": [
       "array([0.77785029, 0.76720958, 0.73081834, 0.74725926, 0.71798236])"
      ]
     },
     "execution_count": 570,
     "metadata": {},
     "output_type": "execute_result"
    }
   ],
   "source": [
    "#stratify = True in train_test_split\n",
    "lr = LogisticRegressionCV(cv = 5, class_weight = class_weights, max_iter = 200)\n",
    "\n",
    "lr.fit(x_train, y_train)\n",
    "cross_val_score(lr, x_test, y_test, cv = 5, scoring = 'roc_auc')"
   ]
  },
  {
   "cell_type": "code",
   "execution_count": null,
   "id": "vital-cycling",
   "metadata": {},
   "outputs": [],
   "source": [
    "#stratifield KFold cross validation\n",
    "kf = StratifiedKFold(n_splits=5,shuffle=True,random_state=4)\n",
    "class_weights = {0:1, 1:4}\n",
    "\n",
    "i = 1\n",
    "cv_score = []\n",
    "for train_index, test_index in kf.split(X,y):\n",
    "    print('{} of KFold {}'.format(i,kf.n_splits))\n",
    "    xtr,xvl = X.loc[train_index],X.loc[test_index]\n",
    "    ytr,yvl = y.loc[train_index],y.loc[test_index]\n",
    "    \n",
    "    #model\n",
    "    lr = LogisticRegression(class_weight = class_weights, max_iter = 500, solver = 'liblinear')\n",
    "    lr.fit(xtr,ytr)\n",
    "    score = roc_auc_score(yvl,lr.predict(xvl))\n",
    "    print('ROC AUC score:',score)\n",
    "    cv_score.append(score)    \n",
    "    i+=1"
   ]
  },
  {
   "cell_type": "code",
   "execution_count": null,
   "id": "headed-cleanup",
   "metadata": {},
   "outputs": [],
   "source": [
    "#using trained LogisticRegression model to predict x_test\n",
    "lr_preds = lr.predict(x_test)"
   ]
  },
  {
   "cell_type": "code",
   "execution_count": 571,
   "id": "passing-cruise",
   "metadata": {},
   "outputs": [
    {
     "data": {
      "text/plain": [
       "[(0.07114631917082671, 'Age'),\n",
       " (0.006699973271303987, 'Geography_East'),\n",
       " (0.005997241366841225, 'Gender'),\n",
       " (4.818541274918517e-06, 'Balance'),\n",
       " (1.133832923385253e-06, 'EstimatedSalary'),\n",
       " (-0.0007159598365859097, 'CreditScore'),\n",
       " (-0.0009815391039313685, 'HasChckng'),\n",
       " (-0.0012122200958022706, 'Relative'),\n",
       " (-0.0014150629322032282, 'pctaian'),\n",
       " (-0.0025956312459188766, 'NumOfProducts'),\n",
       " (-0.0029270881994871885, 'Tenure'),\n",
       " (-0.004176936489312334, 'pct2prace'),\n",
       " (-0.005590362837853389, 'Geography_West'),\n",
       " (-0.010830527265412697, 'IsActiveMember'),\n",
       " (-0.029090450199080846, 'pctapi'),\n",
       " (-0.02931088001666711, 'pctblack'),\n",
       " (-0.02986239831975608, 'pctwhite'),\n",
       " (-0.03218563731137807, 'pcthispanic')]"
      ]
     },
     "execution_count": 571,
     "metadata": {},
     "output_type": "execute_result"
    }
   ],
   "source": [
    "#lr feature importances\n",
    "sorted(list(zip(lr.coef_.tolist()[0], list(X.columns.values))), key = lambda x: x[0], reverse = True)"
   ]
  },
  {
   "cell_type": "markdown",
   "id": "atomic-module",
   "metadata": {},
   "source": [
    "Logistic Regression yields OK results but feels like we can go further with tree-based models. This was somewhat expected from lack of discernible linear relationships seen earlier. We will nonetheless use this as baseline going forward and will look at tree-based models next "
   ]
  },
  {
   "cell_type": "code",
   "execution_count": null,
   "id": "atlantic-letter",
   "metadata": {},
   "outputs": [],
   "source": [
    "#cross validating our performance metrics\n",
    "print('LR recall std is',np.std(cross_val_score(lr, x_test, y_test, cv = 5, scoring = 'recall')))\n",
    "print('LR precision std is',np.std(cross_val_score(lr, x_test, y_test, cv = 5, scoring = 'precision')))\n",
    "print('LR roc_auc std is',np.std(cross_val_score(lr, x_test, y_test, cv = 5, scoring = 'roc_auc')))\n",
    "\n",
    "print('LR recall mean is',np.mean(cross_val_score(lr, x_test, y_test, cv = 5, scoring = 'recall')))\n",
    "print('LR precision mean is',np.mean(cross_val_score(lr, x_test, y_test, cv = 5, scoring = 'precision')))\n",
    "print('LR roc_auc mean is',np.mean(cross_val_score(lr, x_test, y_test, cv = 5, scoring = 'roc_auc')))"
   ]
  },
  {
   "cell_type": "code",
   "execution_count": 953,
   "id": "legislative-worcester",
   "metadata": {},
   "outputs": [],
   "source": [
    "#pickling our LogisticRegression model\n",
    "\n",
    "with open('lr.pickle','wb') as lr_path:\n",
    "    pickle.dump(lr, lr_path)"
   ]
  },
  {
   "cell_type": "markdown",
   "id": "sapphire-wisconsin",
   "metadata": {},
   "source": [
    "#### Step 3: Horizontal tree-ensembling methods, RandomForestClassifier"
   ]
  },
  {
   "cell_type": "code",
   "execution_count": 569,
   "id": "humanitarian-resident",
   "metadata": {},
   "outputs": [
    {
     "data": {
      "text/plain": [
       "array([0.88710913, 0.85400942, 0.82133534, 0.86594709, 0.82618695])"
      ]
     },
     "execution_count": 569,
     "metadata": {},
     "output_type": "execute_result"
    }
   ],
   "source": [
    "#stratify = True in train_test_split\n",
    "#training our model\n",
    "rfc = RandomForestClassifier(n_estimators = 400, criterion = 'gini', max_depth = 5, class_weight = class_weights)\n",
    "rfc.fit(x_train, y_train)\n",
    "cross_val_score(rfc, x_test, y_test, cv = 5, scoring = 'roc_auc')"
   ]
  },
  {
   "cell_type": "code",
   "execution_count": null,
   "id": "joined-plaintiff",
   "metadata": {},
   "outputs": [],
   "source": [
    "#stratified KFold cross validation\n",
    "i = 1\n",
    "cv_score_rfc = []\n",
    "for train_index, test_index in kf.split(X,y):\n",
    "    print('{} of KFold {}'.format(i,kf.n_splits))\n",
    "    xtr,xvl = X.loc[train_index],X.loc[test_index]\n",
    "    ytr,yvl = y.loc[train_index],y.loc[test_index]\n",
    "    \n",
    "    #model\n",
    "    rfc = RandomForestClassifier(n_estimators = 400, criterion = 'gini', max_depth = 5, class_weight = class_weights)\n",
    "    rfc.fit(xtr,ytr)\n",
    "    score = roc_auc_score(yvl,rfc.predict(xvl))\n",
    "    print('ROC AUC score:',score)\n",
    "    cv_score_rfc.append(score)    \n",
    "    i+=1"
   ]
  },
  {
   "cell_type": "code",
   "execution_count": null,
   "id": "fallen-greek",
   "metadata": {},
   "outputs": [],
   "source": [
    "#cross validating our performance metrics\n",
    "print('RFC recall std is',np.std(cross_val_score(rfc, x_test, y_test, cv = 5, scoring = 'recall')))\n",
    "print('RFC precision std is',np.std(cross_val_score(rfc, x_test, y_test, cv = 5, scoring = 'precision')))\n",
    "print('RFC roc_auc std is',np.std(cross_val_score(rfc, x_test, y_test, cv = 5, scoring = 'roc_auc')))\n",
    "\n",
    "print('RFC recall mean is',np.mean(cross_val_score(rfc, x_test, y_test, cv = 5, scoring = 'recall')))\n",
    "print('RFC precision mean is',np.mean(cross_val_score(rfc, x_test, y_test, cv = 5, scoring = 'precision')))\n",
    "print('RFC roc_auc mean is',np.mean(cross_val_score(rfc, x_test, y_test, cv = 5, scoring = 'roc_auc')))"
   ]
  },
  {
   "cell_type": "code",
   "execution_count": 572,
   "id": "attached-indiana",
   "metadata": {},
   "outputs": [
    {
     "data": {
      "text/plain": [
       "array([[2111,  517],\n",
       "       [ 164,  508]])"
      ]
     },
     "execution_count": 572,
     "metadata": {},
     "output_type": "execute_result"
    }
   ],
   "source": [
    "#looking at confusion matrix for RFC\n",
    "from sklearn.metrics import confusion_matrix\n",
    "rfc_predictions = rfc.predict(x_test)\n",
    "confusion_matrix(y_test, rfc_predictions)"
   ]
  },
  {
   "cell_type": "code",
   "execution_count": 576,
   "id": "limited-fashion",
   "metadata": {},
   "outputs": [
    {
     "data": {
      "text/plain": [
       "[(0.41292136904280247, 'Age'),\n",
       " (0.24932805756818194, 'NumOfProducts'),\n",
       " (0.07903090547160713, 'IsActiveMember'),\n",
       " (0.07208709621768453, 'Geography_East'),\n",
       " (0.06118919228007895, 'Balance'),\n",
       " (0.02260077257041998, 'Gender'),\n",
       " (0.01780764596733752, 'Geography_West'),\n",
       " (0.01650977777474995, 'CreditScore'),\n",
       " (0.013984538439036638, 'EstimatedSalary'),\n",
       " (0.010094720528449778, 'pctwhite'),\n",
       " (0.008560983641185647, 'pcthispanic'),\n",
       " (0.007698131487386511, 'pct2prace'),\n",
       " (0.007474803553547569, 'pctapi'),\n",
       " (0.007022188327784043, 'pctblack'),\n",
       " (0.006542253591307239, 'pctaian'),\n",
       " (0.005606573149553197, 'Tenure'),\n",
       " (0.000987240228214629, 'HasChckng'),\n",
       " (0.0005537501606723343, 'Relative')]"
      ]
     },
     "execution_count": 576,
     "metadata": {},
     "output_type": "execute_result"
    }
   ],
   "source": [
    "#feature importances\n",
    "sorted(list(zip(rfc.feature_importances_, X.columns)), key = lambda x: x[0], reverse = True)"
   ]
  },
  {
   "cell_type": "code",
   "execution_count": 952,
   "id": "stock-arrest",
   "metadata": {},
   "outputs": [],
   "source": [
    "#pickling our RandomForestClassifier model\n",
    "\n",
    "with open('rfc.pickle','wb') as rfc_path:\n",
    "    pickle.dump(rfc, rfc_path)"
   ]
  },
  {
   "cell_type": "markdown",
   "id": "polar-corpus",
   "metadata": {},
   "source": [
    "#### Step 4: Vertical tree-ensembling methods, XGBoost"
   ]
  },
  {
   "cell_type": "code",
   "execution_count": null,
   "id": "acceptable-harvest",
   "metadata": {},
   "outputs": [],
   "source": [
    "#nstantiating XGBoostClassifier model and defining parameters \n",
    "from xgboost import XGBClassifier\n",
    "\n",
    "xgboost = XGBClassifier(silent=False, \n",
    "                      scale_pos_weight=4,\n",
    "                      learning_rate=0.01,  \n",
    "                      colsample_bytree = 0.8,\n",
    "                      subsample = 0.8,\n",
    "                      objective='binary:logistic', \n",
    "                      n_estimators=300, \n",
    "                      reg_alpha = 0.3,\n",
    "                      max_depth=4, \n",
    "                      gamma=10)\n",
    "xgboost.fit(x_train, y_train)"
   ]
  },
  {
   "cell_type": "code",
   "execution_count": null,
   "id": "conditional-banana",
   "metadata": {},
   "outputs": [],
   "source": [
    "#predicting x_test\n",
    "preds = xgboost.predict(x_test)"
   ]
  },
  {
   "cell_type": "code",
   "execution_count": 603,
   "id": "according-arthritis",
   "metadata": {},
   "outputs": [
    {
     "data": {
      "text/plain": [
       "[(0.19937824, 'Age'),\n",
       " (0.16566657, 'NumOfProducts'),\n",
       " (0.103652954, 'IsActiveMember'),\n",
       " (0.076023296, 'Geography_East'),\n",
       " (0.06141522, 'Balance'),\n",
       " (0.05198584, 'Geography_West'),\n",
       " (0.046013273, 'Gender'),\n",
       " (0.030741615, 'pctapi'),\n",
       " (0.03016604, 'HasChckng'),\n",
       " (0.02868764, 'CreditScore'),\n",
       " (0.02810993, 'Tenure'),\n",
       " (0.027568739, 'EstimatedSalary'),\n",
       " (0.025700673, 'pcthispanic'),\n",
       " (0.025527578, 'pctwhite'),\n",
       " (0.025152216, 'pctaian'),\n",
       " (0.025027564, 'pctblack'),\n",
       " (0.024923433, 'pct2prace'),\n",
       " (0.024259115, 'Relative')]"
      ]
     },
     "execution_count": 603,
     "metadata": {},
     "output_type": "execute_result"
    }
   ],
   "source": [
    "#feature importances\n",
    "sorted(list(zip(xgboost.feature_importances_, X.columns)), key = lambda x: x[0], reverse = True)"
   ]
  },
  {
   "cell_type": "code",
   "execution_count": null,
   "id": "amber-witness",
   "metadata": {},
   "outputs": [],
   "source": [
    "#cross validating performance metrics\n",
    "print('XGB recall std is',np.std(cross_val_score(xgboost, x_test, y_test, cv = 5, scoring = 'recall')))\n",
    "print('XGB precision std is',np.std(cross_val_score(xgboost, x_test, y_test, cv = 5, scoring = 'precision')))\n",
    "print('XGB roc_auc std is',np.std(cross_val_score(xgboost, x_test, y_test, cv = 5, scoring = 'roc_auc')))\n",
    "\n",
    "print('XGB recall mean is',np.mean(cross_val_score(xgboost, x_test, y_test, cv = 5, scoring = 'recall')))\n",
    "print('XGB precision mean is',np.mean(cross_val_score(xgboost, x_test, y_test, cv = 5, scoring = 'precision')))\n",
    "print('XGB roc_auc mean is',np.mean(cross_val_score(xgboost, x_test, y_test, cv = 5, scoring = 'roc_auc')))"
   ]
  },
  {
   "cell_type": "code",
   "execution_count": 616,
   "id": "copyrighted-clark",
   "metadata": {},
   "outputs": [
    {
     "data": {
      "text/plain": [
       "(2568, 2)"
      ]
     },
     "execution_count": 616,
     "metadata": {},
     "output_type": "execute_result"
    }
   ],
   "source": [
    "#getting predicted probabilities dataframe from xgboost\n",
    "xgbpreds = pd.DataFrame(xgboost.predict_proba(x_test)[:,:], columns = ['No Churn','Churn'])\n",
    "xgbpreds.loc[xgbpreds['Churn'] > 0.2].shape"
   ]
  },
  {
   "cell_type": "code",
   "execution_count": 949,
   "id": "graphic-sharing",
   "metadata": {},
   "outputs": [],
   "source": [
    "#creating dataframe to pickle for our Dash App / Flask App \n",
    "df_ids = pd.concat([data1.loc[x_test.index.values,['CustomerId','Geography']], x_test], axis = 1)\n",
    "df_ids.drop(cols, axis = 1, inplace = True)\n",
    "df_ids.drop(['Relative','Geography_East','Geography_West', 'HasChckng'], axis = 1, inplace = True)\n",
    "xgbpreds_rank = xgbpreds.drop('Action', axis = 1)\n",
    "xgbpreds_rank.reset_index(drop=True, inplace=True)\n",
    "df_ids.reset_index(drop=True, inplace=True)\n",
    "pickle_df = pd.concat([df_ids, xgbpreds_rank], axis = 1)\n",
    "pickle_df.sort_values(by = 'Churn', ascending = False, inplace = True)\n",
    "pickle_df['rank'] = pickle_df.index.values + 1\n",
    "pickle_df.rename({'NumOfProducts':'NumProducts','IsActiveMember':'IsActive','EstimatedSalary':'Salary'}, \n",
    "                 axis = 1, inplace = True)\n",
    "pickle_df.drop(['No Churn','Tenure'], axis = 1, inplace = True)\n",
    "pickle_df['Churn'] = (pickle_df['Churn'] * 100).astype(str).apply(lambda x: x[:4])"
   ]
  },
  {
   "cell_type": "code",
   "execution_count": 951,
   "id": "dying-roberts",
   "metadata": {},
   "outputs": [],
   "source": [
    "#pickling this dataframe\n",
    "with open('df_ids.pickle','wb') as df_ids_path:\n",
    "    pickle.dump(pickle_df, df_ids_path)"
   ]
  },
  {
   "cell_type": "code",
   "execution_count": 816,
   "id": "changing-delivery",
   "metadata": {},
   "outputs": [],
   "source": [
    "#concatenating our true y values to our predict proba df from XGBoostClassifier\n",
    "y_test2 = y_test.reset_index()\n",
    "y_test2.drop('index', axis = 1, inplace = True)\n",
    "merged = pd.concat([xgbpreds, y_test2], axis = 1)\n",
    "merged.drop('Action', axis = 1, inplace = True)"
   ]
  },
  {
   "cell_type": "code",
   "execution_count": 614,
   "id": "spiritual-sheep",
   "metadata": {},
   "outputs": [
    {
     "data": {
      "text/plain": [
       "array([[2111,  517],\n",
       "       [ 155,  517]])"
      ]
     },
     "execution_count": 614,
     "metadata": {},
     "output_type": "execute_result"
    }
   ],
   "source": [
    "#looking at xgboost confusion matrix\n",
    "confusion_matrix(y_test, preds)"
   ]
  },
  {
   "cell_type": "code",
   "execution_count": 840,
   "id": "annoying-billion",
   "metadata": {},
   "outputs": [],
   "source": [
    "#pickling our xgb model\n",
    "\n",
    "with open('xgboost.pickle','wb') as xgb_path:\n",
    "    pickle.dump(xgboost, xgb_path)"
   ]
  },
  {
   "cell_type": "markdown",
   "id": "grateful-forest",
   "metadata": {},
   "source": [
    "#### Step 5: Visualizing ROC_AUC Curves"
   ]
  },
  {
   "cell_type": "code",
   "execution_count": 673,
   "id": "sufficient-spokesman",
   "metadata": {},
   "outputs": [],
   "source": [
    "#getting predicted probabilities for each of our models\n",
    "probas_lr = lr.predict_proba(x_test)[:, 1]\n",
    "probas_rfc = rfc.predict_proba(x_test)[:, 1]\n",
    "probas_xgb = xgboost.predict_proba(x_test)[:, 1]"
   ]
  },
  {
   "cell_type": "code",
   "execution_count": 674,
   "id": "aboriginal-terminology",
   "metadata": {},
   "outputs": [],
   "source": [
    "#defining prediction function\n",
    "def get_preds(threshold, probabilities):\n",
    "    return [1 if prob > threshold else 0 for prob in probabilities]"
   ]
  },
  {
   "cell_type": "code",
   "execution_count": 681,
   "id": "polyphonic-tomorrow",
   "metadata": {},
   "outputs": [],
   "source": [
    "#LogisticRegression\n",
    "roc_values_lr = []\n",
    "for thresh in np.linspace(0, 1, 100):\n",
    "    preds = get_preds(thresh, probas_lr)\n",
    "    tn, fp, fn, tp = confusion_matrix(y_test, preds).ravel()\n",
    "    tpr = tp/(tp+fn)\n",
    "    fpr = fp/(fp+tn)\n",
    "    roc_values_lr.append([tpr, fpr])\n",
    "tpr_values_lr, fpr_values_lr = zip(*roc_values_lr)"
   ]
  },
  {
   "cell_type": "code",
   "execution_count": 682,
   "id": "interim-sodium",
   "metadata": {},
   "outputs": [],
   "source": [
    "#RandomForestClassifier\n",
    "roc_values_rfc = []\n",
    "for thresh in np.linspace(0, 1, 100):\n",
    "    preds = get_preds(thresh, probas_rfc)\n",
    "    tn, fp, fn, tp = confusion_matrix(y_test, preds).ravel()\n",
    "    tpr = tp/(tp+fn)\n",
    "    fpr = fp/(fp+tn)\n",
    "    roc_values_rfc.append([tpr, fpr])\n",
    "tpr_values_rfc, fpr_values_rfc = zip(*roc_values_rfc)"
   ]
  },
  {
   "cell_type": "code",
   "execution_count": 683,
   "id": "trained-universal",
   "metadata": {},
   "outputs": [],
   "source": [
    "#XGBClassifier\n",
    "roc_values_xgb = []\n",
    "for thresh in np.linspace(0, 1, 100):\n",
    "    preds = get_preds(thresh, probas_xgb)\n",
    "    tn, fp, fn, tp = confusion_matrix(y_test, preds).ravel()\n",
    "    tpr = tp/(tp+fn)\n",
    "    fpr = fp/(fp+tn)\n",
    "    roc_values_xgb.append([tpr, fpr])\n",
    "tpr_values_xgb, fpr_values_xgb = zip(*roc_values_xgb)"
   ]
  },
  {
   "cell_type": "code",
   "execution_count": 687,
   "id": "optical-keeping",
   "metadata": {},
   "outputs": [
    {
     "data": {
      "image/png": "[encoded data removed]",
      "text/plain": [
       "<Figure size 720x504 with 1 Axes>"
      ]
     },
     "metadata": {
      "needs_background": "light"
     },
     "output_type": "display_data"
    }
   ],
   "source": [
    "#creating ROC_AUC plot\n",
    "fig, ax = plt.subplots(figsize=(10,7))\n",
    "ax.plot(fpr_values_lr, tpr_values_lr, label = 'LogisticRegression')\n",
    "ax.plot(fpr_values_rfc, tpr_values_rfc, label = 'RandomForestClassifier')\n",
    "ax.plot(fpr_values_xgb, tpr_values_xgb, label = 'XGBoostClassifier')\n",
    "ax.plot(np.linspace(0, 1, 100),\n",
    "         np.linspace(0, 1, 100),\n",
    "         label='baseline',\n",
    "         linestyle='--')\n",
    "ax.legend()\n",
    "plt.title('Receiver Operating Characteristic Curve', fontsize=18)\n",
    "plt.ylabel('TPR', fontsize=16)\n",
    "plt.xlabel('FPR', fontsize=16)\n",
    "plt.legend(fontsize=12);"
   ]
  },
  {
   "cell_type": "markdown",
   "id": "generic-pipeline",
   "metadata": {},
   "source": [
    "### Tuning & Defining Actionable Business Strategy\n",
    "\n",
    "Creating function that determines whether or not to apply a promo to a customer based on their likelihood of churning. We use the below cost function to quantify for different parameters the expected value of applying a promotional strategy to our customer. Future iterations of this cost function should build out a DCF analysis-like model on Customer Lifetime Value (CLV) incorporating expected future cash flows from the customer in order to improve on the below quantification of the cost of churn. Please refer to the slide deck for greater detail on this cost function "
   ]
  },
  {
   "cell_type": "code",
   "execution_count": null,
   "id": "balanced-feedback",
   "metadata": {
    "scrolled": false
   },
   "outputs": [],
   "source": [
    "#cost function\n",
    "\n",
    "def action_determination(cost_of_churn = 5, cost_of_promo = 1, effectiveness_of_promo = 1, \n",
    "                         cost_of_wrong_action = 0.1, preds = xgbpreds, top = -1):\n",
    "    #creating function that determines whether or not to apply a promo to a customer based \n",
    "    #on their likelihood of churning\n",
    "    #must pass a DataFrame of predict_proba with column names Churn and Not Churn\n",
    "    \n",
    "    #cost of wrong action captures if the customer was not going to churn in the first place and churns as a \n",
    "    #result of the promo \n",
    "    \n",
    "    df = preds.sort_values(by = 'Churn', ascending = False)\n",
    "    \n",
    "    #action column creates actions by comparing the greater expected value of Action vs No action \n",
    "    #based on our pred_proba \n",
    "    \n",
    "    df['Action'] = np.where(df['Churn'] * (cost_of_churn * effectiveness_of_promo) - \n",
    "                             df['No Churn'] * (cost_of_promo + cost_of_wrong_action) >\n",
    "                            df['No Churn'] * (cost_of_promo + cost_of_wrong_action) -\n",
    "                             df['Churn'] * (cost_of_churn * effectiveness_of_promo),\n",
    "                           1, 0)\n",
    "\n",
    "    df['Estimated_Benefit'] = np.where(df['Action'] == 1, (df['Churn'] * cost_of_churn * effectiveness_of_promo) - \n",
    "                                                         (cost_of_promo + cost_of_wrong_action),\n",
    "                                      (df['No Churn'] * (cost_of_promo + cost_of_wrong_action) - \n",
    "                                      (df['Churn'] * cost_of_churn * effectiveness_of_promo)))\n",
    "\n",
    "    print('There are {} customers for which we recommend taking an action'.format(df.Action.sum()))\n",
    "    print('\\n')\n",
    "    print('The Customers we recommend taking a promotional action on include:')\n",
    "    return df.loc[df['Action'] == 1].sort_values(by='Estimated_Benefit', ascending = False)[:top]\n",
    "    \n",
    "action_determination(1000, 500, 0.8, 1, xgbpreds, 50)"
   ]
  },
  {
   "cell_type": "markdown",
   "id": "modern-wrapping",
   "metadata": {},
   "source": [
    "End of this notebook - please check out my slides for some of the business recommendations from this analysis. Thanks for reading!"
   ]
  }
 ],
 "metadata": {
  "kernelspec": {
   "display_name": "Python 3",
   "language": "python",
   "name": "python3"
  },
  "language_info": {
   "codemirror_mode": {
    "name": "ipython",
    "version": 3
   },
   "file_extension": ".py",
   "mimetype": "text/x-python",
   "name": "python",
   "nbconvert_exporter": "python",
   "pygments_lexer": "ipython3",
   "version": "3.7.7"
  }
 },
 "nbformat": 4,
 "nbformat_minor": 5
}
